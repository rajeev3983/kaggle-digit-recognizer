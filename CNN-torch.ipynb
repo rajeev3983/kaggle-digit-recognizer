{
 "cells": [
  {
   "cell_type": "code",
   "execution_count": null,
   "metadata": {
    "collapsed": false
   },
   "outputs": [],
   "source": [
    "require 'image'"
   ]
  },
  {
   "cell_type": "code",
   "execution_count": null,
   "metadata": {
    "collapsed": false,
    "scrolled": false
   },
   "outputs": [],
   "source": [
    "require 'torch'"
   ]
  },
  {
   "cell_type": "code",
   "execution_count": null,
   "metadata": {
    "collapsed": false
   },
   "outputs": [],
   "source": [
    "require 'nn'"
   ]
  },
  {
   "cell_type": "code",
   "execution_count": null,
   "metadata": {
    "collapsed": false
   },
   "outputs": [],
   "source": [
    "num_examples = 42000\n",
    "num_classes = 10"
   ]
  },
  {
   "cell_type": "code",
   "execution_count": null,
   "metadata": {
    "collapsed": true
   },
   "outputs": [],
   "source": [
    "X = torch.Tensor(num_examples,1,28,28)\n",
    "Y = torch.zeros(num_examples)"
   ]
  },
  {
   "cell_type": "code",
   "execution_count": null,
   "metadata": {
    "collapsed": false
   },
   "outputs": [],
   "source": [
    "local csvFile = io.open('train.csv', 'r')  \n",
    "local header = csvFile:read()\n",
    "local i = 0  \n",
    "for line in csvFile:lines('*l') do  \n",
    "  local l = line:split(',')\n",
    "    i = i + 1;\n",
    "    if i % 1000 == 0 then\n",
    "        print(i)\n",
    "    end\n",
    "  for key, val in ipairs(l) do\n",
    "        if key == 1 then\n",
    "            Y[i] = tonumber(val)+1\n",
    "        else\n",
    "            key = key -2\n",
    "            X[i][1][tonumber(key/28)+1][tonumber(key%28)+1]=val\n",
    "        end\n",
    "  end\n",
    "end\n",
    "csvFile:close()"
   ]
  },
  {
   "cell_type": "code",
   "execution_count": null,
   "metadata": {
    "collapsed": false
   },
   "outputs": [],
   "source": [
    "function split(split_input, sep)\n",
    "    if sep == nil then\n",
    "        sep = \"%s\"\n",
    "    end\n",
    "    local t = {}; local i = 1\n",
    "    if split_input == nil then\n",
    "    \treturn t\n",
    "    end\n",
    "    for str in string.gmatch(split_input, \"([^\"..sep..\"]+)\") do\n",
    "        t[i] = str; i = i + 1\n",
    "    end\n",
    "    return t\n",
    "end"
   ]
  },
  {
   "cell_type": "code",
   "execution_count": null,
   "metadata": {
    "collapsed": false
   },
   "outputs": [],
   "source": [
    "while true do\n",
    "    s = file:read()\n",
    "    if s==nil then\n",
    "        break\n",
    "    end\n",
    "    s = split(s,',')\n",
    "    Y[tonumber(s[1])] = class_dict[s[2]]\n",
    "end\n",
    "    "
   ]
  },
  {
   "cell_type": "code",
   "execution_count": null,
   "metadata": {
    "collapsed": false
   },
   "outputs": [],
   "source": [
    "print(Y[6])"
   ]
  },
  {
   "cell_type": "code",
   "execution_count": null,
   "metadata": {
    "collapsed": false
   },
   "outputs": [],
   "source": [
    "conv_net = nn.Sequential()"
   ]
  },
  {
   "cell_type": "code",
   "execution_count": null,
   "metadata": {
    "collapsed": false
   },
   "outputs": [],
   "source": [
    "conv_net:add(nn.SpatialConvolution(1,32,3,3,1,1,1,1))\n",
    "conv_net:add(nn.ReLU())\n",
    "conv_net:add(nn.SpatialMaxPooling(2,2))\n",
    "conv_net:add(nn.SpatialConvolution(32,64,3,3,1,1,1,1))\n",
    "conv_net:add(nn.ReLU())\n",
    "conv_net:add(nn.SpatialMaxPooling(2,2))\n",
    "conv_net:add(nn.View(64*7*7))\n",
    "conv_net:add(nn.Linear(64*7*7,625))\n",
    "conv_net:add(nn.Sigmoid())\n",
    "conv_net:add(nn.Linear(625,10))\n",
    "conv_net:add(nn.SoftMax())"
   ]
  },
  {
   "cell_type": "code",
   "execution_count": null,
   "metadata": {
    "collapsed": true
   },
   "outputs": [],
   "source": [
    "conv_net = torch.load('conv_net_model')"
   ]
  },
  {
   "cell_type": "code",
   "execution_count": null,
   "metadata": {
    "collapsed": false
   },
   "outputs": [],
   "source": [
    "criterion = nn.CrossEntropyCriterion()\n",
    "trainer = nn.StochasticGradient(conv_net,criterion)\n",
    "trainer.learningRate = 0.01\n",
    "trainer.learningRateDecay = 0.001"
   ]
  },
  {
   "cell_type": "code",
   "execution_count": null,
   "metadata": {
    "collapsed": false
   },
   "outputs": [],
   "source": [
    "dataset = {}\n",
    "function dataset:size() return 40000 end\n",
    "test_data = {}\n",
    "for i = 1,dataset:size() do\n",
    "    dataset[i]= {X[i],Y[i]}\n",
    "end"
   ]
  },
  {
   "cell_type": "code",
   "execution_count": null,
   "metadata": {
    "collapsed": false
   },
   "outputs": [],
   "source": [
    "print(dataset[39355])"
   ]
  },
  {
   "cell_type": "code",
   "execution_count": null,
   "metadata": {
    "collapsed": false
   },
   "outputs": [],
   "source": [
    "for iter = 1,1 do\n",
    "    for i=1,42000 do\n",
    "        local pred =  conv_net:forward(X[i])\n",
    "        local loss = criterion:forward(pred,Y[i])\n",
    "        local gradCriterion = criterion:backward(pred,Y[i])\n",
    "        conv_net:zeroGradParameters()\n",
    "        conv_net:backward(X[i],gradCriterion)\n",
    "        conv_net:updateParameters(0.005)\n",
    "        if(i%1000==0) then\n",
    "            print(i)\n",
    "            print(Y[i])\n",
    "            t,j = torch.max(pred,1)\n",
    "            print(j[1])\n",
    "        end\n",
    "    end\n",
    "    torch.save('conv_net_model',conv_net)\n",
    "    local total = 0.0\n",
    "    local correct = 0.0\n",
    "    for i=37001,42000 do\n",
    "        local pred = conv_net:forward(X[i])\n",
    "        total = total + 1.0\n",
    "        t,j = torch.max(pred,1)\n",
    "        if (j[1]==Y[i]) then\n",
    "            correct = correct + 1.0\n",
    "        end\n",
    "    end\n",
    "    print('accuracy')\n",
    "    print(correct/total)\n",
    "end"
   ]
  },
  {
   "cell_type": "code",
   "execution_count": null,
   "metadata": {
    "collapsed": false
   },
   "outputs": [],
   "source": [
    "torch.save('conv_net_model',conv_net)"
   ]
  },
  {
   "cell_type": "code",
   "execution_count": null,
   "metadata": {
    "collapsed": true
   },
   "outputs": [],
   "source": [
    "num_test_examples=28000"
   ]
  },
  {
   "cell_type": "code",
   "execution_count": null,
   "metadata": {
    "collapsed": false
   },
   "outputs": [],
   "source": [
    "test_example = torch.Tensor(1,28,28)\n",
    "local csvFile = io.open('test.csv', 'r')  \n",
    "local header = csvFile:read()\n",
    "local i = 0  \n",
    "for line in csvFile:lines('*l') do  \n",
    "  local l = line:split(',')\n",
    "    i = i + 1;\n",
    "    if i % 1000 == 0 then\n",
    "        print(i)\n",
    "    end\n",
    "  for key, val in ipairs(l) do\n",
    "            key = key -1\n",
    "            test_example[1][tonumber(key/28)+1][tonumber(key%28)+1]=val\n",
    "  end\n",
    "  local pred = conv_net:forward(test_example)\n",
    "  t,j = torch.max(pred,1)\n",
    "  print(i..\",\"..j[1]-1)\n",
    "end\n",
    "csvFile:close()"
   ]
  },
  {
   "cell_type": "code",
   "execution_count": null,
   "metadata": {
    "collapsed": true
   },
   "outputs": [],
   "source": []
  }
 ],
 "metadata": {
  "kernelspec": {
   "display_name": "iTorch",
   "language": "lua",
   "name": "itorch"
  },
  "language_info": {
   "name": "lua",
   "version": "20100"
  }
 },
 "nbformat": 4,
 "nbformat_minor": 0
}
